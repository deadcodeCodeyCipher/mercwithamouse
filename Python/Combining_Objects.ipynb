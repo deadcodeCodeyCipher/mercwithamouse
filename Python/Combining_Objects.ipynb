{
  "nbformat": 4,
  "nbformat_minor": 0,
  "metadata": {
    "colab": {
      "provenance": [],
      "authorship_tag": "ABX9TyO9Lvk3JpZ0sam6sXRfg28Y",
      "include_colab_link": true
    },
    "kernelspec": {
      "name": "python3",
      "display_name": "Python 3"
    },
    "language_info": {
      "name": "python"
    }
  },
  "cells": [
    {
      "cell_type": "markdown",
      "metadata": {
        "id": "view-in-github",
        "colab_type": "text"
      },
      "source": [
        "<a href=\"https://colab.research.google.com/github/deadcodeCodeyCipher/mercwithamouse/blob/main/Python/Combining_Objects.ipynb\" target=\"_parent\"><img src=\"https://colab.research.google.com/assets/colab-badge.svg\" alt=\"Open In Colab\"/></a>"
      ]
    },
    {
      "cell_type": "code",
      "execution_count": 8,
      "metadata": {
        "colab": {
          "base_uri": "https://localhost:8080/"
        },
        "id": "ZwkFDIpIQS8j",
        "outputId": "90342048-0de2-4219-b554-51907d7d14be"
      },
      "outputs": [
        {
          "output_type": "stream",
          "name": "stdout",
          "text": [
            "['Cable', 'Domino', 'Negasonic Teenage Warhead']\n"
          ]
        }
      ],
      "source": [
        "deadcode_squad = []\n",
        "deadcode_squad.append(\"Cable\")\n",
        "deadcode_squad.append(\"Domino\")\n",
        "deadcode_squad.append(\"Negasonic Teenage Warhead\")\n",
        "\n",
        "print(deadcode_squad)"
      ]
    },
    {
      "cell_type": "code",
      "source": [
        "deadcode_weapons = [\"katanas\", \"pistols\", \"sarcasm\"]\n",
        "cable_weapons = [\"telekinesis\", \"time-traveling device\", \"patience\"]\n",
        "\n",
        "deadcode_cable_combo = list(zip(deadcode_weapons, cable_weapons))\n",
        "\n",
        "print(deadcode_cable_combo)"
      ],
      "metadata": {
        "colab": {
          "base_uri": "https://localhost:8080/"
        },
        "id": "z46_u9g1QWfm",
        "outputId": "4b8d0b58-d023-4aeb-e351-bf3d3175199d"
      },
      "execution_count": 9,
      "outputs": [
        {
          "output_type": "stream",
          "name": "stdout",
          "text": [
            "[('katanas', 'telekinesis'), ('pistols', 'time-traveling device'), ('sarcasm', 'patience')]\n"
          ]
        }
      ]
    },
    {
      "cell_type": "code",
      "source": [
        "deadcode_squad.append(list(zip(deadcode_squad, deadcode_cable_combo)))\n",
        "\n",
        "print(deadcode_squad)"
      ],
      "metadata": {
        "colab": {
          "base_uri": "https://localhost:8080/"
        },
        "id": "Rs5ucpxCQ17s",
        "outputId": "8b5b4e22-053f-4db7-b7fe-92697dac39da"
      },
      "execution_count": 10,
      "outputs": [
        {
          "output_type": "stream",
          "name": "stdout",
          "text": [
            "['Cable', 'Domino', 'Negasonic Teenage Warhead', [('Cable', ('katanas', 'telekinesis')), ('Domino', ('pistols', 'time-traveling device')), ('Negasonic Teenage Warhead', ('sarcasm', 'patience'))]]\n"
          ]
        }
      ]
    }
  ]
}